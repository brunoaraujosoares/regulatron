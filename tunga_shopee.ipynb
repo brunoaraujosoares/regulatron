{
 "cells": [
  {
   "cell_type": "code",
   "execution_count": 67,
   "id": "3b2fd5f9",
   "metadata": {},
   "outputs": [],
   "source": [
    "# https://medium.com/@a173823/web-scraping-on-shopee-com-6180979eff78\n",
    "# Regulatron01!\n",
    "from bs4 import BeautifulSoup\n",
    "\n",
    "from selenium import webdriver\n",
    "from selenium.webdriver.chrome.options import Options\n",
    "from selenium.webdriver.support.ui import WebDriverWait\n",
    "from selenium.common.exceptions import TimeoutException\n",
    "\n",
    "from selenium.webdriver.chrome.service import Service\n",
    "from selenium.webdriver.common.action_chains import ActionChains\n",
    "from selenium.webdriver.common.by import By\n",
    "from selenium.webdriver.common.keys import Keys\n",
    "from selenium.webdriver.support import expected_conditions as EC\n",
    "from webdriver_manager.chrome import ChromeDriverManager\n",
    "\n",
    "from time import sleep\n",
    "from collections import Counter\n",
    "from tqdm import tqdm\n",
    "import time\n",
    "\n",
    "# import threading\n",
    "\n",
    "# import pandas as pd\n",
    "# import numpy as np\n",
    "# from numpy import nan\n",
    "# import re\n",
    "# import concurrent.futures\n",
    "# %matplotlib inline\n",
    "# import matplotlib as mpl\n",
    "# import matplotlib.pyplot as plt\n",
    "# import seaborn as sns\n",
    "# import math"
   ]
  },
  {
   "cell_type": "code",
   "execution_count": 79,
   "id": "3dd61548",
   "metadata": {},
   "outputs": [],
   "source": [
    "# create object for chrome options\n",
    "chrome_options = webdriver.ChromeOptions()\n",
    "# chrome_options.add_argument('--headless')\n",
    "chrome_options.add_argument('--no-sandbox') \n",
    "driver = webdriver.Chrome(service = Service(ChromeDriverManager().install()),\n",
    "                              options = chrome_options)  \n",
    "driver.implicitly_wait(5)\n",
    "actions = ActionChains(driver)\n",
    "\n",
    "# Maximiza a janela\n",
    "driver.maximize_window()\n",
    "# navegar até a shopee\n",
    "driver.get('https://shopee.com.br/')\n",
    "time.sleep(3)\n",
    "elements = driver.find_elements(By.TAG_NAME, 'button')\n",
    "\n",
    "for e in elements:\n",
    "    if e.text == 'Aceitar todos os cookies':\n",
    "        actions.move_to_element(e)\n",
    "        actions.perform()\n",
    "        e.click()\n",
    "        break\n",
    "        \n",
    "element = driver.find_element(By.ID, 'main')\n",
    "actions.move_to_element(element).click().perform()\n",
    "time.sleep(3)\n",
    "# clicar para entrar\n",
    "e = driver.find_elements(By.PARTIAL_LINK_TEXT, 'Entre')[0]\n",
    "actions.move_to_element(e).click().perform()\n",
    "\n",
    "\n",
    "\n",
    "# fazer login\n",
    "telefone = '71999243010'\n",
    "senha    = 'Regulatron01!'\n",
    "\n",
    "campo_telefone = driver.find_elements(By.CLASS_NAME, 'pDzPRp')[0]\n",
    "campo_senha = driver.find_elements(By.CLASS_NAME, 'pDzPRp')[1]\n",
    "\n",
    "actions.move_to_element(campo_telefone).click().perform()\n",
    "for i in telefone:\n",
    "    campo_telefone.send_keys(i)\n",
    "    time.sleep(0.5)\n",
    "\n",
    "actions.move_to_element(campo_senha).click().perform()\n",
    "for i in senha:\n",
    "    campo_senha.send_keys(i)\n",
    "    time.sleep(0.5)\n",
    "\n",
    "# clicar para entrar\n",
    "elements = driver.find_elements(By.TAG_NAME, 'button')\n",
    "for e in elements:\n",
    "    if e.text == 'ENTRE':\n",
    "        actions.move_to_element(e).click().perform()\n",
    "        break\n",
    "        \n",
    "time.sleep(3)\n",
    "\n",
    "\n",
    "# Pesquisar\n",
    "links = set()\n",
    "query = 'tvbox'\n",
    "search_box = driver.find_element(By.XPATH, '//*[@id=\"main\"]/div/div[2]/div[1]/div/div[2]/div/div[2]/div/header/div[2]/div/div[1]/div[1]/div/form/input')\n",
    "actions.move_to_element(search_box).click().perform()\n",
    "time.sleep(0.5)\n",
    "\n",
    "for i in query:\n",
    "    search_box.send_keys(i)\n",
    "    time.sleep(0.5)\n",
    "\n",
    "button = driver.find_element(By.CSS_SELECTOR, '#main > div > div:nth-child(3) > div.Vdye40 > div > div:nth-child(2) > div > div:nth-child(2) > div > header > div.container-wrapper.header-with-search-wrapper > div > div.header-with-search__search-section > div.shopee-searchbar > button > svg')\n",
    "actions.move_to_element(button).click().perform()\n",
    "time.sleep(3)\n",
    "\n",
    "\n",
    "try:\n",
    "    ultima_pagina = int(driver.find_element(By.XPATH,'//*[@id=\"main\"]/div/div[2]/div/div/div[2]/div[3]/div[1]/div[2]/div/span[2]').text)\n",
    "except:\n",
    "    ultima_pagina = 1\n",
    "\n",
    "for i in range(ultima_pagina):\n",
    "\n",
    "    # rolagem para esperar carregar os produtos\n",
    "    for i in range(50):\n",
    "        try:\n",
    "            driver.execute_script(\"window.scrollBy(0, 100)\")\n",
    "            time.sleep(0.5)\n",
    "        except:\n",
    "            break\n",
    "\n",
    "\n",
    "    time.sleep(3)\n",
    "    div_links = driver.find_element(By.CSS_SELECTOR, '#main > div > div.dYFPlI > div > div > div.sdzgsX > div.shopee-search-item-result > div.row.shopee-search-item-result__items')\n",
    "    a_elements = div_links.find_elements(By.TAG_NAME, 'a')\n",
    "\n",
    "    for a in a_elements:\n",
    "        links.add(a.get_attribute('href'))\n",
    "\n",
    "    button = driver.find_elements(By.CLASS_NAME, 'shopee-icon-button--right')[0]\n",
    "    actions.move_to_element(button).click().perform()\n",
    "    time.sleep(3)"
   ]
  },
  {
   "cell_type": "code",
   "execution_count": 80,
   "id": "6ca2a739",
   "metadata": {},
   "outputs": [
    {
     "data": {
      "text/plain": [
       "1015"
      ]
     },
     "execution_count": 80,
     "metadata": {},
     "output_type": "execute_result"
    }
   ],
   "source": [
    "len(links)"
   ]
  },
  {
   "cell_type": "code",
   "execution_count": 53,
   "id": "f7373656",
   "metadata": {},
   "outputs": [],
   "source": [
    "for i in links:\n",
    "    driver.get(i)\n",
    "    time.sleep(3)\n",
    "    "
   ]
  },
  {
   "cell_type": "code",
   "execution_count": 81,
   "id": "db012b86",
   "metadata": {},
   "outputs": [],
   "source": [
    "driver.get(list(links)[0])\n",
    "sleep(3)"
   ]
  },
  {
   "cell_type": "code",
   "execution_count": 83,
   "id": "dad32f9a",
   "metadata": {},
   "outputs": [],
   "source": [
    "    dict_produtos = { # vai guardar todas as informações dos produtos\n",
    "        'produto_pesquisado' : [],\n",
    "        'titulo_produto' : [],\n",
    "        # 'marca' : marca,\n",
    "        'id_vendedor': [],\n",
    "        'preco': [],\n",
    "        'quantidade': [],\n",
    "        'descricao': [] ,\n",
    "        'homologado': [],\n",
    "        'plataforma' : [],\n",
    "        'url' : []\n",
    "        # 'quantidade_vendida':[]\n",
    "        # modelo' : modelo\n",
    "    }\n",
    "    \n",
    "    "
   ]
  },
  {
   "cell_type": "code",
   "execution_count": 98,
   "id": "d2166244",
   "metadata": {},
   "outputs": [
    {
     "name": "stdout",
     "output_type": "stream",
     "text": [
      "<div class=\"dR8kXc\"><label class=\"zquA4o\">Categoria</label><div class=\"flex items-center RnKf-X\"><a class=\"akCPfg KvmvO1\" href=\"/\">Shopee</a><svg enable-background=\"new 0 0 11 11\" viewBox=\"0 0 11 11\" x=\"0\" y=\"0\" class=\"shopee-svg-icon xprSzi icon-arrow-right\"><path d=\"m2.5 11c .1 0 .2 0 .3-.1l6-5c .1-.1.2-.3.2-.4s-.1-.3-.2-.4l-6-5c-.2-.2-.5-.1-.7.1s-.1.5.1.7l5.5 4.6-5.5 4.6c-.2.2-.2.5-.1.7.1.1.3.2.4.2z\"></path></svg><a class=\"akCPfg KvmvO1\" href=\"/Jogos-e-Consoles-cat.11059980\">Jogos e Consoles</a><svg enable-background=\"new 0 0 11 11\" viewBox=\"0 0 11 11\" x=\"0\" y=\"0\" class=\"shopee-svg-icon xprSzi icon-arrow-right\"><path d=\"m2.5 11c .1 0 .2 0 .3-.1l6-5c .1-.1.2-.3.2-.4s-.1-.3-.2-.4l-6-5c-.2-.2-.5-.1-.7.1s-.1.5.1.7l5.5 4.6-5.5 4.6c-.2.2-.2.5-.1.7.1.1.3.2.4.2z\"></path></svg><a class=\"akCPfg KvmvO1\" href=\"/Acessórios-de-Consoles-cat.11059980.11060087\">Acessórios de Consoles</a></div></div><div class=\"dR8kXc\"><label class=\"zquA4o eqeCX7\">Compatilbilidade da Plataforma</label><div>Para Celular</div></div><div class=\"dR8kXc\"><label class=\"zquA4o eqeCX7\">Quantidade</label><div>Nil</div></div><div class=\"dR8kXc\"><label class=\"zquA4o eqeCX7\">Estoque</label><div>2400000</div></div><div class=\"dR8kXc\"><label class=\"zquA4o eqeCX7\">Enviado de</label><div>China Continental</div></div>\n"
     ]
    }
   ],
   "source": [
    "try:\n",
    "    titulo_produto = driver.find_element(By.XPATH,\n",
    "                                         '//*[@id=\"main\"]/div/div[2]/div[1]/div/div/div/div[2]/div[3]/div/div[1]'\n",
    "                                        ).text\n",
    "except:\n",
    "    titulo_produto = ''\n",
    "\n",
    "try:\n",
    "    id_vendedor    = driver.find_element(By.XPATH,\n",
    "                                         '//*[@id=\"main\"]/div/div[2]/div[1]/div/div/div/div[3]/div[1]/div[1]/div/div[1]'\n",
    "                                        ).text\n",
    "except:\n",
    "    id_vendedor    = ''\n",
    "\n",
    "try:      \n",
    "    qtde_vendida = driver.find_element(By.XPATH,\n",
    "                                       '//*[@id=\"main\"]/div/div[2]/div[1]/div/div/div/div[2]/div[3]/div/div[2]/div[2]/div[1]'\n",
    "                                      ).text\n",
    "except:\n",
    "    qtde_vendida = '0'\n",
    "\n",
    "try:\n",
    "    localizacao = driver.find_element(By.XPATH,\n",
    "                                        '//*[@id=\"main\"]/div/div[2]/div[1]/div/div/div/div[2]/div[3]/div/div[4]/div/div[2]/div/div[2]/div[2]/div[1]/div[2]/div[1]'\n",
    "                                     ).text\n",
    "except:\n",
    "    localizacao = ''\n",
    "    \n",
    "\n",
    "try:\n",
    "    preco = driver.find_element(By.XPATH,\n",
    "                               '//*[@id=\"main\"]/div/div[2]/div[1]/div/div/div/div[2]/div[3]/div/div[3]/div/div/div/div/div[1]'\n",
    "                               ).text\n",
    "\n",
    "    if preco.find('-'):\n",
    "        preco = preco.split('-')\n",
    "        preco_minimo = preco[0][2:]\n",
    "        preco_maximo = preco[-1][3:]\n",
    "    else:\n",
    "        preco_minimo = preco[2:]\n",
    "        preco_maximo = ''\n",
    "except:\n",
    "    preco_minimo = ''\n",
    "    preco_maximo = ''\n",
    "\n",
    "\n",
    "try:\n",
    "    preco_promo = driver.find_element(By.XPATH,\n",
    "                               '//*[@id=\"main\"]/div/div[2]/div[1]/div/div/div/div[2]/div[3]/div/div[3]/div/div/div/div/div[2]/div[1]'\n",
    "                               ).text\n",
    "\n",
    "    if preco_promo.find('-'):\n",
    "        preco_promo = preco_promo.split('-')\n",
    "        preco_promo_minimo = preco_promo[0][2:]\n",
    "        preco_promo_maximo = preco_promo[-1][3:]\n",
    "    else:\n",
    "        preco_promo_minimo = preco_promo[2:]\n",
    "        preco_promo_maximo = ''\n",
    "\n",
    "except:\n",
    "        preco_promo_minimo = ''\n",
    "        preco_promo_maximo = ''\n",
    "\n",
    "        \n",
    "try:\n",
    "    detalhes_produto = driver.find_element(By.XPATH, '//*[@id=\"main\"]/div/div[2]/div[1]/div/div/div/div[3]/div[2]/div[1]/div[1]/div[1]/div[2]'\n",
    "                                          ).get_attribute('innerHTML')\n",
    "except:\n",
    "    detalhes_produto = ''\n",
    "    \n",
    "print(detalhes_produto)\n",
    "#         driver.find_element(By.XPATH,        \n",
    "# <button class=\"product-variation\" aria-label=\"2G 16G\" aria-disabled=\"false\">2G 16G</button>\n",
    "\n",
    "# try:\n",
    "#     descricao = driver.find_element(By.ID, 'productDescription').text\n",
    "# except:\n",
    "#     descricao = ''\n",
    "    \n",
    "# quantidade = 1\n",
    "\n",
    "# # if testar_palavras(f'{titulo_produto} {descricao}', yes_words, no_words):\n",
    "# #     homologado = 'CANDIDATO'\n",
    "# # else:\n",
    "# #     homologado = ''\n",
    "# homologado = ''\n",
    "    \n",
    "# dict_produtos['produto_pesquisado'].append(query)\n",
    "# dict_produtos['titulo_produto'].append(titulo_produto)\n",
    "# # dict_produtos['marca'].append(marca)\n",
    "# dict_produtos['id_vendedor'].append(id_vendedor)\n",
    "# dict_produtos['preco'].append(preco)\n",
    "# dict_produtos['quantidade'].append(quantidade)\n",
    "# dict_produtos['descricao'].append(descricao)\n",
    "# dict_produtos['homologado'].append(homologado)\n",
    "# dict_produtos['plataforma'].append('Carrefour')\n",
    "# dict_produtos['url'].append(list(links)[0])\n",
    "# # dict_produtos['modelo'].append(modelo)\n",
    "\n",
    "# dict_produtos\n",
    "# #salvar_dict_para_csv(dict_produtos, 'dados/resultado_mercado_livre.csv')"
   ]
  },
  {
   "cell_type": "code",
   "execution_count": 116,
   "id": "52fff96e",
   "metadata": {},
   "outputs": [
    {
     "name": "stdout",
     "output_type": "stream",
     "text": [
      "<div class=\"dR8kXc\"><label class=\"zquA4o\">Categoria</label><div class=\"flex items-center RnKf-X\"><a class=\"akCPfg KvmvO1\" href=\"/\">Shopee</a><svg enable-background=\"new 0 0 11 11\" viewBox=\"0 0 11 11\" x=\"0\" y=\"0\" class=\"shopee-svg-icon xprSzi icon-arrow-right\"><path d=\"m2.5 11c .1 0 .2 0 .3-.1l6-5c .1-.1.2-.3.2-.4s-.1-.3-.2-.4l-6-5c-.2-.2-.5-.1-.7.1s-.1.5.1.7l5.5 4.6-5.5 4.6c-.2.2-.2.5-.1.7.1.1.3.2.4.2z\"></path></svg><a class=\"akCPfg KvmvO1\" href=\"/Jogos-e-Consoles-cat.11059980\">Jogos e Consoles</a><svg enable-background=\"new 0 0 11 11\" viewBox=\"0 0 11 11\" x=\"0\" y=\"0\" class=\"shopee-svg-icon xprSzi icon-arrow-right\"><path d=\"m2.5 11c .1 0 .2 0 .3-.1l6-5c .1-.1.2-.3.2-.4s-.1-.3-.2-.4l-6-5c-.2-.2-.5-.1-.7.1s-.1.5.1.7l5.5 4.6-5.5 4.6c-.2.2-.2.5-.1.7.1.1.3.2.4.2z\"></path></svg><a class=\"akCPfg KvmvO1\" href=\"/Acessórios-de-Consoles-cat.11059980.11060087\">Acessórios de Consoles</a></div></div><div class=\"dR8kXc\"><label class=\"zquA4o eqeCX7\">Compatilbilidade da Plataforma</label><div>Para Celular</div></div><div class=\"dR8kXc\"><label class=\"zquA4o eqeCX7\">Quantidade</label><div>Nil</div></div><div class=\"dR8kXc\"><label class=\"zquA4o eqeCX7\">Estoque</label><div>2400000</div></div><div class=\"dR8kXc\"><label class=\"zquA4o eqeCX7\">Enviado de</label><div>China Continental</div></div>\n"
     ]
    }
   ],
   "source": [
    "try:\n",
    "    detalhes_produto = driver.find_element(By.XPATH, '//*[@id=\"main\"]/div/div[2]/div[1]/div/div/div/div[3]/div[2]/div[1]/div[1]/div[1]/div[2]'\n",
    "                                          ).get_attribute('innerHTML')\n",
    "except:\n",
    "    detalhes_produto = ''\n",
    "    \n",
    "print(detalhes_produto)"
   ]
  },
  {
   "cell_type": "code",
   "execution_count": 120,
   "id": "4210ffa9",
   "metadata": {},
   "outputs": [
    {
     "name": "stdout",
     "output_type": "stream",
     "text": [
      "['Categoria', 'Compatilbilidade da Plataforma', 'Quantidade', 'Estoque', 'Enviado de']\n"
     ]
    }
   ],
   "source": [
    "import re\n",
    "\n",
    "padrao = re.findall(r'<label[^>]*>(.*?)</label>', detalhes_produto)\n",
    "print(padrao)"
   ]
  },
  {
   "cell_type": "code",
   "execution_count": 138,
   "id": "45d9eb36",
   "metadata": {},
   "outputs": [
    {
     "name": "stdout",
     "output_type": "stream",
     "text": [
      "['ShopeeJogos e ConsolesAcessórios de Consoles', 'Para Celular', 'Nil', '2400000', 'China Continental']\n"
     ]
    }
   ],
   "source": [
    "# detalhes_produto\n",
    "\n",
    "# criar um objeto Beautiful Soup a partir do HTML\n",
    "soup = BeautifulSoup(detalhes_produto, 'html.parser')\n",
    "\n",
    "# remover todas as tags <label> e svg\n",
    "for label in soup.find_all(['label','svg']):\n",
    "    label.extract()\n",
    "    \n",
    "for div in soup.find_all('div', {'class': 'dR8kXc'}):\n",
    "    div.unwrap()\n",
    "\n",
    "\n",
    "# seleciona todas as tags <div> e extrai o texto\n",
    "divs = [div.text.replace('\\n',' ').strip() for div in soup.find_all('div')]\n",
    "\n",
    "# imprime a lista resultante\n",
    "print(divs)\n",
    "    \n",
    "    \n",
    "    \n",
    "    \n",
    "    \n",
    "# # imprimir o HTML sem as tags <label>\n",
    "# print(soup.prettify())"
   ]
  },
  {
   "cell_type": "code",
   "execution_count": 124,
   "id": "ad55f9a9",
   "metadata": {},
   "outputs": [
    {
     "name": "stdout",
     "output_type": "stream",
     "text": [
      "['<label class=\"zquA4o\">Categoria</label><div class=\"flex items-center RnKf-X\"><a class=\"akCPfg KvmvO1\" href=\"/\">Shopee</a><svg enable-background=\"new 0 0 11 11\" viewBox=\"0 0 11 11\" x=\"0\" y=\"0\" class=\"shopee-svg-icon xprSzi icon-arrow-right\"><path d=\"m2.5 11c .1 0 .2 0 .3-.1l6-5c .1-.1.2-.3.2-.4s-.1-.3-.2-.4l-6-5c-.2-.2-.5-.1-.7.1s-.1.5.1.7l5.5 4.6-5.5 4.6c-.2.2-.2.5-.1.7.1.1.3.2.4.2z\"></path></svg><a class=\"akCPfg KvmvO1\" href=\"/Jogos-e-Consoles-cat.11059980\">Jogos e Consoles</a><svg enable-background=\"new 0 0 11 11\" viewBox=\"0 0 11 11\" x=\"0\" y=\"0\" class=\"shopee-svg-icon xprSzi icon-arrow-right\"><path d=\"m2.5 11c .1 0 .2 0 .3-.1l6-5c .1-.1.2-.3.2-.4s-.1-.3-.2-.4l-6-5c-.2-.2-.5-.1-.7.1s-.1.5.1.7l5.5 4.6-5.5 4.6c-.2.2-.2.5-.1.7.1.1.3.2.4.2z\"></path></svg><a class=\"akCPfg KvmvO1\" href=\"/Acessórios-de-Consoles-cat.11059980.11060087\">Acessórios de Consoles</a>', '<label class=\"zquA4o eqeCX7\">Compatilbilidade da Plataforma</label><div>Para Celular', '<label class=\"zquA4o eqeCX7\">Quantidade</label><div>Nil', '<label class=\"zquA4o eqeCX7\">Estoque</label><div>2400000', '<label class=\"zquA4o eqeCX7\">Enviado de</label><div>China Continental']\n"
     ]
    }
   ],
   "source": [
    "padrao = re.findall(r'<div[^>]*>(.*?)</div>', detalhes_produto)\n",
    "print(padrao)"
   ]
  },
  {
   "cell_type": "code",
   "execution_count": 106,
   "id": "feaafb8d",
   "metadata": {},
   "outputs": [
    {
     "data": {
      "text/plain": [
       "'<div class=\"dR8kXc\"><label class=\"zquA4o\">Categoria</label><div class=\"flex items-center RnKf-X\"><a class=\"akCPfg KvmvO1\" href=\"/\">Shopee</a><svg enable-background=\"new 0 0 11 11\" viewBox=\"0 0 11 11\" x=\"0\" y=\"0\" class=\"shopee-svg-icon xprSzi icon-arrow-right\"><path d=\"m2.5 11c .1 0 .2 0 .3-.1l6-5c .1-.1.2-.3.2-.4s-.1-.3-.2-.4l-6-5c-.2-.2-.5-.1-.7.1s-.1.5.1.7l5.5 4.6-5.5 4.6c-.2.2-.2.5-.1.7.1.1.3.2.4.2z\"></path></svg><a class=\"akCPfg KvmvO1\" href=\"/Jogos-e-Consoles-cat.11059980\">Jogos e Consoles</a><svg enable-background=\"new 0 0 11 11\" viewBox=\"0 0 11 11\" x=\"0\" y=\"0\" class=\"shopee-svg-icon xprSzi icon-arrow-right\"><path d=\"m2.5 11c .1 0 .2 0 .3-.1l6-5c .1-.1.2-.3.2-.4s-.1-.3-.2-.4l-6-5c-.2-.2-.5-.1-.7.1s-.1.5.1.7l5.5 4.6-5.5 4.6c-.2.2-.2.5-.1.7.1.1.3.2.4.2z\"></path></svg><a class=\"akCPfg KvmvO1\" href=\"/Acessórios-de-Consoles-cat.11059980.11060087\">Acessórios de Consoles</a></div></div><div class=\"dR8kXc\"><label class=\"zquA4o eqeCX7\">Compatilbilidade da Plataforma</label><div>Para Celular</div></div><div class=\"dR8kXc\"><label class=\"zquA4o eqeCX7\">Quantidade</label><div>Nil</div></div><div class=\"dR8kXc\"><label class=\"zquA4o eqeCX7\">Estoque</label><div>2400000</div></div><div class=\"dR8kXc\"><label class=\"zquA4o eqeCX7\">Enviado de</label><div>China Continental</div></div>'"
      ]
     },
     "execution_count": 106,
     "metadata": {},
     "output_type": "execute_result"
    }
   ],
   "source": [
    "detalhes_produto"
   ]
  },
  {
   "cell_type": "code",
   "execution_count": null,
   "id": "88d5fd35",
   "metadata": {},
   "outputs": [],
   "source": [
    "links = set()\n",
    "driver.get('https://www.amazon.com.br')\n",
    "sleep(3)\n",
    "\n",
    "search(driver = driver, query = query, element_id = element_id)\n",
    "sleep(3)\n",
    "\n",
    "## descobre a úlitim página \n",
    "# <span class=\"s-pagination-item s-pagination-disabled\" aria-disabled=\"true\">7</span>\n",
    "try:\n",
    "    ultima_pagina = driver.find_elements(By.CLASS_NAME, 's-pagination-disabled')[1].get_attribute('innerHTML')\n",
    "    ultima_pagina = int(ultima_pagina)\n",
    "except: \n",
    "    ultima_pagina = 1\n",
    "    \n",
    "\n",
    "for pagina in range(ultima_pagina):\n",
    "    try:\n",
    "        print('pesquisando página ', pagina + 1, 'de', ultima_pagina)\n",
    "        #descobrir os links dos produtos\n",
    "        \n",
    "        a_elements = driver.find_elements(By.CLASS_NAME, 'a-link-normal')\n",
    "        # a_elements = a_elements.find_elements(By.TAG_NAME, 'a')\n",
    "        for element in a_elements:\n",
    "            link_produto = element.get_attribute('href') \n",
    "#             16,https://www.amazon.com.br/gp/goldbox/\n",
    "#             ,https://www.amazon.com.br/s?k=\n",
    "            if '/gp/' in link_produto:\n",
    "                pass\n",
    "            elif '/s?' in link_produto:\n",
    "                pass \n",
    "            elif '/s/' in link_produto:\n",
    "                pass\n",
    "            elif '/b?' in link_produto:\n",
    "                pass\n",
    "            else:\n",
    "                links.add(link_produto)\n",
    "\n",
    "        if pagina < ultima_pagina:\n",
    "            driver.find_elements(By.CLASS_NAME, 's-pagination-next')[0].click()\n",
    "            sleep(3)\n",
    "            \n",
    "    except Exception as e:\n",
    "        print(e)\n"
   ]
  },
  {
   "cell_type": "code",
   "execution_count": null,
   "id": "8a1ba576",
   "metadata": {},
   "outputs": [],
   "source": [
    "# for link in links()\n",
    "#     driver.get(link)\n",
    "#     sleep(3)\n",
    "    \n"
   ]
  },
  {
   "cell_type": "code",
   "execution_count": null,
   "id": "39355632",
   "metadata": {},
   "outputs": [],
   "source": [
    "driver.get(list(links)[0])\n",
    "sleep(3)"
   ]
  },
  {
   "cell_type": "code",
   "execution_count": null,
   "id": "18669548",
   "metadata": {},
   "outputs": [],
   "source": []
  },
  {
   "cell_type": "code",
   "execution_count": null,
   "id": "e48db6ad",
   "metadata": {},
   "outputs": [],
   "source": [
    "try:\n",
    "    titulo_produto = driver.find_element(By.ID, 'productTitle').text\n",
    "except:\n",
    "    titulo_produto = ''\n",
    "\n",
    "try:\n",
    "    id_vendedor    = driver.find_element(By.XPATH, '//*[@id=\"tabular-buybox\"]/div[1]/div[6]/div').get_attribute('innerText')\n",
    "\n",
    "except:\n",
    "    id_vendedor    = ''\n",
    "\n",
    "try:      \n",
    "\n",
    "    string = driver.find_element(By.CLASS_NAME, 'a-price-whole').get_attribute('innerText')\n",
    "    parte_numerica = re.findall(r'\\d+', string)\n",
    "    parte_inteira = int(parte_numerica[0])\n",
    "    \n",
    "    string = driver.find_element(By.CLASS_NAME, 'a-price-fraction').get_attribute('innerText')\n",
    "    parte_numerica = re.findall(r'\\d+', string)\n",
    "    parte_decimal = int(parte_numerica[0])\n",
    "\n",
    "    preco = float(f'{parte_inteira}.{parte_decimal}')\n",
    "    preco = '{:0.2f}'.format(preco).replace('.', ',') \n",
    "\n",
    "except:\n",
    "    preco = ''\n",
    "\n",
    "try:\n",
    "    descricao = driver.find_element(By.ID, 'productDescription').text\n",
    "except:\n",
    "    descricao = ''\n",
    "    \n",
    "quantidade = 1\n",
    "\n",
    "# if testar_palavras(f'{titulo_produto} {descricao}', yes_words, no_words):\n",
    "#     homologado = 'CANDIDATO'\n",
    "# else:\n",
    "#     homologado = ''\n",
    "homologado = ''\n",
    "    \n",
    "dict_produtos['produto_pesquisado'].append(query)\n",
    "dict_produtos['titulo_produto'].append(titulo_produto)\n",
    "# dict_produtos['marca'].append(marca)\n",
    "dict_produtos['id_vendedor'].append(id_vendedor)\n",
    "dict_produtos['preco'].append(preco)\n",
    "dict_produtos['quantidade'].append(quantidade)\n",
    "dict_produtos['descricao'].append(descricao)\n",
    "dict_produtos['homologado'].append(homologado)\n",
    "dict_produtos['plataforma'].append('Carrefour')\n",
    "dict_produtos['url'].append(list(links)[0])\n",
    "# dict_produtos['modelo'].append(modelo)\n",
    "\n",
    "dict_produtos\n",
    "#salvar_dict_para_csv(dict_produtos, 'dados/resultado_mercado_livre.csv')"
   ]
  },
  {
   "cell_type": "code",
   "execution_count": null,
   "id": "067959c7",
   "metadata": {},
   "outputs": [],
   "source": [
    "\n",
    "\n",
    "descricao"
   ]
  },
  {
   "cell_type": "code",
   "execution_count": null,
   "id": "2a3a67b7",
   "metadata": {},
   "outputs": [],
   "source": [
    "descricao = find_element(By.ID, 'productDescription')"
   ]
  },
  {
   "cell_type": "code",
   "execution_count": null,
   "id": "ef1c773e",
   "metadata": {},
   "outputs": [],
   "source": [
    "            dict_produtos['produto_pesquisado'].append(chave)\n",
    "            dict_produtos['titulo_produto'].append(titulo_produto) \n",
    "            # dict_produtos['marca'].append(marca)\n",
    "            dict_produtos['id_vendedor'].append(id_vendedor)\n",
    "            dict_produtos['preco'].append(preco)\n",
    "            dict_produtos['quantidade'].append(quantidade)\n",
    "            dict_produtos['descricao'].append(descricao)\n",
    "            dict_produtos['homologado'].append(homologado)\n",
    "            dict_produtos['plataforma'].append('Mercado Livre')\n",
    "            dict_produtos['url'].append(item)\n",
    "            # dict_produtos['modelo'].append(modelo)\n",
    "            \n",
    "<span id=\"productTitle\" class=\"a-size-large product-title-word-break\">        Controle Remoto Universal Wifi Smart Home Elgin Compatível com os Sistemas Amazon Alexa e Google Home, Vermelho       </span>"
   ]
  }
 ],
 "metadata": {
  "kernelspec": {
   "display_name": "Python 3 (ipykernel)",
   "language": "python",
   "name": "python3"
  },
  "language_info": {
   "codemirror_mode": {
    "name": "ipython",
    "version": 3
   },
   "file_extension": ".py",
   "mimetype": "text/x-python",
   "name": "python",
   "nbconvert_exporter": "python",
   "pygments_lexer": "ipython3",
   "version": "3.9.7"
  }
 },
 "nbformat": 4,
 "nbformat_minor": 5
}
